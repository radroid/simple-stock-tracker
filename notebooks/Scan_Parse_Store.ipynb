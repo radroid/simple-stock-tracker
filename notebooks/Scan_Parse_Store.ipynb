{
  "nbformat": 4,
  "nbformat_minor": 0,
  "metadata": {
    "colab": {
      "name": "scan_parse.ipynb",
      "provenance": [],
      "collapsed_sections": []
    },
    "kernelspec": {
      "name": "python3",
      "display_name": "Python 3"
    },
    "language_info": {
      "name": "python"
    }
  },
  "cells": [
    {
      "cell_type": "code",
      "metadata": {
        "id": "YH7OORzsqCDA"
      },
      "source": [
        "!pip install requests_html"
      ],
      "execution_count": null,
      "outputs": []
    },
    {
      "cell_type": "code",
      "metadata": {
        "id": "KFeR_tJAp8Zv"
      },
      "source": [
        "from requests_html import HTMLSession\n",
        "import pandas as pd\n",
        "import requests"
      ],
      "execution_count": 2,
      "outputs": []
    },
    {
      "cell_type": "code",
      "metadata": {
        "id": "1tUOBHf_wpJ-"
      },
      "source": [
        "# Parse particular news for tickers' mentions,takes in an url of an article to pass and an instance of a parsing session from page parser\n",
        "def url_parse(parse_url, parse_session):\n",
        "  parse_request = parse_session.get(parse_url)\n",
        "  content = parse_request.html.find('section.release-body')\n",
        "\n",
        "  try:\n",
        "    for item in content:\n",
        "      parse_ticker = item.find('a.ticket-symbol', first=True).text\n",
        "  except AttributeError:\n",
        "    parse_ticker = None\n",
        "  try:\n",
        "    return parse_ticker\n",
        "  except UnboundLocalError:\n",
        "    return None # Return non if no tickers found"
      ],
      "execution_count": 3,
      "outputs": []
    },
    {
      "cell_type": "code",
      "metadata": {
        "id": "Tlm77dUA3430"
      },
      "source": [
        "# Function to parse a parse a particular page for all the news to later parse them for tickers. Takes 2 parameters: a number of pages and initial dataset of already saved news.\n",
        "def page_parse(x, page_session, data=[]):\n",
        "    page_url = f'https://www.prnewswire.com/news-releases/english-releases/?page={x}&pagesize=100'\n",
        "    page_request = page_session.get(page_url)\n",
        "    content = page_request.html.find('div.row.arabiclistingcards')\n",
        "    for item in content:\n",
        "        date = item.find('h3', first=True).text.split('ET')[-2]\n",
        "        title = item.find('h3', first=True).text.split('ET')[-1]\n",
        "        article_url = 'https://www.prnewswire.com' + item.find('a.newsreleaseconsolidatelink', first=True).attrs['href']\n",
        "        ticker = url_parse(article_url, page_session)\n",
        "        try:\n",
        "          dic = {\n",
        "              'Date': pd.to_datetime(date),\n",
        "              'Title': title,\n",
        "              'Ticker': ticker\n",
        "          }\n",
        "        except Exception:\n",
        "          pass\n",
        "        data.append(dic)\n",
        "    return data"
      ],
      "execution_count": 8,
      "outputs": []
    },
    {
      "cell_type": "code",
      "metadata": {
        "id": "34RK1mHy26gU"
      },
      "source": [
        "# Main scanner, takes a number of pages to parse with 10 being a default. 50 pages cover a week of news and 100 pages cover 2 weeks of data.\n",
        "def run_scanner(pages=10):\n",
        "  session = HTMLSession()\n",
        "  data = []\n",
        "\n",
        "  for x in range(1, pages+1):\n",
        "      page_parse(x, session, data)\n",
        "\n",
        "  df = pd.DataFrame(data)\n",
        "  df.dropna(subset=['Ticker'], inplace=True)\n",
        "  df.set_index('Date', inplace=True)\n",
        "  return df"
      ],
      "execution_count": 9,
      "outputs": []
    },
    {
      "cell_type": "code",
      "metadata": {
        "id": "IhJbZ31KsEvr"
      },
      "source": [
        "df = run_scanner(10)"
      ],
      "execution_count": 10,
      "outputs": []
    },
    {
      "cell_type": "code",
      "metadata": {
        "colab": {
          "base_uri": "https://localhost:8080/",
          "height": 450
        },
        "id": "p7Ruv8QWMArM",
        "outputId": "9ff2ba3d-a90e-410a-d9e8-258044418fe8"
      },
      "source": [
        "df"
      ],
      "execution_count": 11,
      "outputs": [
        {
          "output_type": "execute_result",
          "data": {
            "text/html": [
              "<div>\n",
              "<style scoped>\n",
              "    .dataframe tbody tr th:only-of-type {\n",
              "        vertical-align: middle;\n",
              "    }\n",
              "\n",
              "    .dataframe tbody tr th {\n",
              "        vertical-align: top;\n",
              "    }\n",
              "\n",
              "    .dataframe thead th {\n",
              "        text-align: right;\n",
              "    }\n",
              "</style>\n",
              "<table border=\"1\" class=\"dataframe\">\n",
              "  <thead>\n",
              "    <tr style=\"text-align: right;\">\n",
              "      <th></th>\n",
              "      <th>Title</th>\n",
              "      <th>Ticker</th>\n",
              "    </tr>\n",
              "    <tr>\n",
              "      <th>Date</th>\n",
              "      <th></th>\n",
              "      <th></th>\n",
              "    </tr>\n",
              "  </thead>\n",
              "  <tbody>\n",
              "    <tr>\n",
              "      <th>2021-11-06 13:47:00</th>\n",
              "      <td>Edwards Announces Six-month Data From Transca...</td>\n",
              "      <td>EW</td>\n",
              "    </tr>\n",
              "    <tr>\n",
              "      <th>2021-11-06 13:34:00</th>\n",
              "      <td>Medtronic announces early data for the Intrep...</td>\n",
              "      <td>MDT</td>\n",
              "    </tr>\n",
              "    <tr>\n",
              "      <th>2021-11-06 13:22:00</th>\n",
              "      <td>Did You Purchase Stock Between March 22, 2021...</td>\n",
              "      <td>BIDU</td>\n",
              "    </tr>\n",
              "    <tr>\n",
              "      <th>2021-11-06 13:05:00</th>\n",
              "      <td>SHAREHOLDER INVESTIGATION: Halper Sadeh LLP I...</td>\n",
              "      <td>DWSN</td>\n",
              "    </tr>\n",
              "    <tr>\n",
              "      <th>2021-11-06 12:53:00</th>\n",
              "      <td>SHAREHOLDER INVESTIGATION: Halper Sadeh LLP I...</td>\n",
              "      <td>PAE</td>\n",
              "    </tr>\n",
              "    <tr>\n",
              "      <th>...</th>\n",
              "      <td>...</td>\n",
              "      <td>...</td>\n",
              "    </tr>\n",
              "    <tr>\n",
              "      <th>2021-10-25 10:01:00</th>\n",
              "      <td>Tri Pointe Homes Wins Big at the Great Americ...</td>\n",
              "      <td>TPH</td>\n",
              "    </tr>\n",
              "    <tr>\n",
              "      <th>2021-10-25 10:00:00</th>\n",
              "      <td>Comerica Bank earns Best in Enterprise Resili...</td>\n",
              "      <td>CMA</td>\n",
              "    </tr>\n",
              "    <tr>\n",
              "      <th>2021-10-25 10:00:00</th>\n",
              "      <td>Peloton Releases Inaugural Environmental, Soc...</td>\n",
              "      <td>PTON</td>\n",
              "    </tr>\n",
              "    <tr>\n",
              "      <th>2021-10-25 09:45:00</th>\n",
              "      <td>Comcast Donates $25,000 to CodeVA and 500 Lap...</td>\n",
              "      <td>CMCSA</td>\n",
              "    </tr>\n",
              "    <tr>\n",
              "      <th>2021-10-25 09:21:00</th>\n",
              "      <td>Spirit Airlines Selects Pratt &amp; Whitney GTF™ ...</td>\n",
              "      <td>SAVE</td>\n",
              "    </tr>\n",
              "  </tbody>\n",
              "</table>\n",
              "<p>2870 rows × 2 columns</p>\n",
              "</div>"
            ],
            "text/plain": [
              "                                                                 Title Ticker\n",
              "Date                                                                         \n",
              "2021-11-06 13:47:00   Edwards Announces Six-month Data From Transca...     EW\n",
              "2021-11-06 13:34:00   Medtronic announces early data for the Intrep...    MDT\n",
              "2021-11-06 13:22:00   Did You Purchase Stock Between March 22, 2021...   BIDU\n",
              "2021-11-06 13:05:00   SHAREHOLDER INVESTIGATION: Halper Sadeh LLP I...   DWSN\n",
              "2021-11-06 12:53:00   SHAREHOLDER INVESTIGATION: Halper Sadeh LLP I...    PAE\n",
              "...                                                                ...    ...\n",
              "2021-10-25 10:01:00   Tri Pointe Homes Wins Big at the Great Americ...    TPH\n",
              "2021-10-25 10:00:00   Comerica Bank earns Best in Enterprise Resili...    CMA\n",
              "2021-10-25 10:00:00   Peloton Releases Inaugural Environmental, Soc...   PTON\n",
              "2021-10-25 09:45:00   Comcast Donates $25,000 to CodeVA and 500 Lap...  CMCSA\n",
              "2021-10-25 09:21:00   Spirit Airlines Selects Pratt & Whitney GTF™ ...   SAVE\n",
              "\n",
              "[2870 rows x 2 columns]"
            ]
          },
          "metadata": {},
          "execution_count": 11
        }
      ]
    },
    {
      "cell_type": "code",
      "metadata": {
        "id": "-hE31yO46o7S"
      },
      "source": [
        "df.to_csv('Oct25Nov6.csv') # Save dataframe as a csv for further analysis"
      ],
      "execution_count": 12,
      "outputs": []
    }
  ]
}