{
  "nbformat": 4,
  "nbformat_minor": 0,
  "metadata": {
    "colab": {
      "name": "AIDI_1100_1_FINAL-PROJECT_GROUP-7.ipynb",
      "provenance": [],
      "authorship_tag": "ABX9TyOUl9SOUc+9VwR7BiR2ohOa",
      "include_colab_link": true
    },
    "kernelspec": {
      "name": "python3",
      "display_name": "Python 3"
    },
    "language_info": {
      "name": "python"
    }
  },
  "cells": [
    {
      "cell_type": "markdown",
      "metadata": {
        "id": "view-in-github",
        "colab_type": "text"
      },
      "source": [
        "<a href=\"https://colab.research.google.com/github/radroid/simple-stock-tracker/blob/main/notebooks/AIDI_1100_1_FINAL_PROJECT_GROUP_7.ipynb\" target=\"_parent\"><img src=\"https://colab.research.google.com/assets/colab-badge.svg\" alt=\"Open In Colab\"/></a>"
      ]
    },
    {
      "cell_type": "markdown",
      "metadata": {
        "id": "hLiEsI4WgL7e"
      },
      "source": [
        "# Section 1 - Scan News\n",
        "Description from document.\n",
        "```\n",
        "[20 Marks] Scan/Parse\n",
        "Scan (the last two weeks or the last week, upto you) and parse news from “newswire” website below.\n",
        "\n",
        "https://www.prnewswire.com/news-releases/news-releases-list/\n",
        "```\n"
      ]
    },
    {
      "cell_type": "code",
      "metadata": {
        "id": "a2_twm_dflSi"
      },
      "source": [
        "# Scan News"
      ],
      "execution_count": null,
      "outputs": []
    }
  ]
}