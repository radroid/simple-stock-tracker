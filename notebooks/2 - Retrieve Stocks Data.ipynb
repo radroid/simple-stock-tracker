{
 "cells": [
  {
   "cell_type": "markdown",
   "metadata": {},
   "source": [
    "<a href=\"https://colab.research.google.com/github/radroid/simple-stock-tracker/blob/main/notebooks/AIDI_1100_03_FINAL_PROJECT_GROUP_7.ipynb\" target=\"_parent\"><img src=\"https://colab.research.google.com/assets/colab-badge.svg\" alt=\"Open In Colab\"/></a>"
   ]
  },
  {
   "cell_type": "markdown",
   "metadata": {},
   "source": [
    "# Coding Section 3: Retrieve Data (Web (API))\n",
    "- Scan `Yahoo! Finance` page for the stock symbols that appeared in the news (there should be a module for yahoo finance that you can use instead of looking for webpage content). </br>\n",
    "- Capture/retrieve the `stock price` and `volume` for `last 30 days`."
   ]
  },
  {
   "cell_type": "code",
   "execution_count": 6,
   "metadata": {},
   "outputs": [],
   "source": [
    "# # install yfinance module\n",
    "# !pip install yfinance"
   ]
  },
  {
   "cell_type": "markdown",
   "metadata": {},
   "source": [
    "## Global variables"
   ]
  },
  {
   "cell_type": "code",
   "execution_count": 2,
   "metadata": {
    "id": "KFeR_tJAp8Zv"
   },
   "outputs": [],
   "source": [
    "import pandas as pd\n",
    "csv_file_path = '../datasets/05Nov21-to-08Nov21.csv'\n",
    "output_stock_dump_path = '../datasets/stock_data/'"
   ]
  },
  {
   "cell_type": "markdown",
   "metadata": {},
   "source": [
    "## Retrieve the previously stored csv with the news and ticker"
   ]
  },
  {
   "cell_type": "code",
   "execution_count": 3,
   "metadata": {
    "id": "YH7OORzsqCDA"
   },
   "outputs": [
    {
     "data": {
      "text/html": [
       "<div>\n",
       "<style scoped>\n",
       "    .dataframe tbody tr th:only-of-type {\n",
       "        vertical-align: middle;\n",
       "    }\n",
       "\n",
       "    .dataframe tbody tr th {\n",
       "        vertical-align: top;\n",
       "    }\n",
       "\n",
       "    .dataframe thead th {\n",
       "        text-align: right;\n",
       "    }\n",
       "</style>\n",
       "<table border=\"1\" class=\"dataframe\">\n",
       "  <thead>\n",
       "    <tr style=\"text-align: right;\">\n",
       "      <th></th>\n",
       "      <th>Date</th>\n",
       "      <th>Title</th>\n",
       "      <th>Ticker</th>\n",
       "      <th>Article URL</th>\n",
       "    </tr>\n",
       "  </thead>\n",
       "  <tbody>\n",
       "    <tr>\n",
       "      <th>0</th>\n",
       "      <td>2021-11-08 13:12:00</td>\n",
       "      <td>Magnus announces Series A Financing to Accele...</td>\n",
       "      <td>CG</td>\n",
       "      <td>https://www.prnewswire.com/news-releases/magnu...</td>\n",
       "    </tr>\n",
       "    <tr>\n",
       "      <th>1</th>\n",
       "      <td>2021-11-08 13:01:00</td>\n",
       "      <td>ADS-TEC Energy GmbH, a Leading Battery-Buffer...</td>\n",
       "      <td>EUSG</td>\n",
       "      <td>https://www.prnewswire.com/news-releases/ads-t...</td>\n",
       "    </tr>\n",
       "    <tr>\n",
       "      <th>2</th>\n",
       "      <td>2021-11-08 13:00:00</td>\n",
       "      <td>New England Biolabs® releases next generation...</td>\n",
       "      <td>MRVI</td>\n",
       "      <td>https://www.prnewswire.com/news-releases/new-e...</td>\n",
       "    </tr>\n",
       "    <tr>\n",
       "      <th>3</th>\n",
       "      <td>2021-11-08 12:53:00</td>\n",
       "      <td>Shareholder Alert: Ademi LLP investigates whe...</td>\n",
       "      <td>ZIXI</td>\n",
       "      <td>https://www.prnewswire.com/news-releases/share...</td>\n",
       "    </tr>\n",
       "    <tr>\n",
       "      <th>4</th>\n",
       "      <td>2021-11-08 12:52:00</td>\n",
       "      <td>Shareholder Alert: Ademi LLP investigates whe...</td>\n",
       "      <td>MCFE</td>\n",
       "      <td>https://www.prnewswire.com/news-releases/share...</td>\n",
       "    </tr>\n",
       "    <tr>\n",
       "      <th>...</th>\n",
       "      <td>...</td>\n",
       "      <td>...</td>\n",
       "      <td>...</td>\n",
       "      <td>...</td>\n",
       "    </tr>\n",
       "    <tr>\n",
       "      <th>276</th>\n",
       "      <td>2021-11-05 15:00:00</td>\n",
       "      <td>Electro-Sensors, Inc. Announces Third Quarter...</td>\n",
       "      <td>ELSE</td>\n",
       "      <td>https://www.prnewswire.com/news-releases/elect...</td>\n",
       "    </tr>\n",
       "    <tr>\n",
       "      <th>277</th>\n",
       "      <td>2021-11-05 15:00:00</td>\n",
       "      <td>Jardiance® shows consistent cardio-renal bene...</td>\n",
       "      <td>LLY</td>\n",
       "      <td>https://www.prnewswire.com/news-releases/jardi...</td>\n",
       "    </tr>\n",
       "    <tr>\n",
       "      <th>278</th>\n",
       "      <td>2021-11-05 14:46:00</td>\n",
       "      <td>Redfin Reports Higher Mortgage Rates Boost Bu...</td>\n",
       "      <td>RDFN</td>\n",
       "      <td>https://www.prnewswire.com/news-releases/redfi...</td>\n",
       "    </tr>\n",
       "    <tr>\n",
       "      <th>279</th>\n",
       "      <td>2021-11-05 14:05:00</td>\n",
       "      <td>Denver Mayor Declares \"Southwest Airlines Day...</td>\n",
       "      <td>LUV</td>\n",
       "      <td>https://www.prnewswire.com/news-releases/denve...</td>\n",
       "    </tr>\n",
       "    <tr>\n",
       "      <th>280</th>\n",
       "      <td>2021-11-05 13:42:00</td>\n",
       "      <td>Motion Acquisition Corp. and DocGo Announce C...</td>\n",
       "      <td>MOTN</td>\n",
       "      <td>https://www.prnewswire.com/news-releases/motio...</td>\n",
       "    </tr>\n",
       "  </tbody>\n",
       "</table>\n",
       "<p>281 rows × 4 columns</p>\n",
       "</div>"
      ],
      "text/plain": [
       "                    Date                                              Title  \\\n",
       "0    2021-11-08 13:12:00   Magnus announces Series A Financing to Accele...   \n",
       "1    2021-11-08 13:01:00   ADS-TEC Energy GmbH, a Leading Battery-Buffer...   \n",
       "2    2021-11-08 13:00:00   New England Biolabs® releases next generation...   \n",
       "3    2021-11-08 12:53:00   Shareholder Alert: Ademi LLP investigates whe...   \n",
       "4    2021-11-08 12:52:00   Shareholder Alert: Ademi LLP investigates whe...   \n",
       "..                   ...                                                ...   \n",
       "276  2021-11-05 15:00:00   Electro-Sensors, Inc. Announces Third Quarter...   \n",
       "277  2021-11-05 15:00:00   Jardiance® shows consistent cardio-renal bene...   \n",
       "278  2021-11-05 14:46:00   Redfin Reports Higher Mortgage Rates Boost Bu...   \n",
       "279  2021-11-05 14:05:00   Denver Mayor Declares \"Southwest Airlines Day...   \n",
       "280  2021-11-05 13:42:00   Motion Acquisition Corp. and DocGo Announce C...   \n",
       "\n",
       "    Ticker                                        Article URL  \n",
       "0       CG  https://www.prnewswire.com/news-releases/magnu...  \n",
       "1     EUSG  https://www.prnewswire.com/news-releases/ads-t...  \n",
       "2     MRVI  https://www.prnewswire.com/news-releases/new-e...  \n",
       "3     ZIXI  https://www.prnewswire.com/news-releases/share...  \n",
       "4     MCFE  https://www.prnewswire.com/news-releases/share...  \n",
       "..     ...                                                ...  \n",
       "276   ELSE  https://www.prnewswire.com/news-releases/elect...  \n",
       "277    LLY  https://www.prnewswire.com/news-releases/jardi...  \n",
       "278   RDFN  https://www.prnewswire.com/news-releases/redfi...  \n",
       "279    LUV  https://www.prnewswire.com/news-releases/denve...  \n",
       "280   MOTN  https://www.prnewswire.com/news-releases/motio...  \n",
       "\n",
       "[281 rows x 4 columns]"
      ]
     },
     "execution_count": 3,
     "metadata": {},
     "output_type": "execute_result"
    }
   ],
   "source": [
    "df = pd.read_csv(csv_file_path)\n",
    "df"
   ]
  },
  {
   "cell_type": "markdown",
   "metadata": {},
   "source": [
    "## Call the Yahoo finance API and get the parsed stock values for every stock from the previously loaded csv"
   ]
  },
  {
   "cell_type": "code",
   "execution_count": 4,
   "metadata": {},
   "outputs": [],
   "source": [
    "import yfinance as yf\n",
    "\n",
    "\n",
    "def get_stock_quotes(ticker):\n",
    "    # Get the stock data of this ticker\n",
    "    stock_data = yf.Ticker(ticker)\n",
    "\n",
    "    # get historical market data of the past 30 days\n",
    "    return stock_data.history(period=\"30d\")\n"
   ]
  },
  {
   "cell_type": "code",
   "execution_count": 5,
   "metadata": {},
   "outputs": [
    {
     "data": {
      "application/vnd.jupyter.widget-view+json": {
       "model_id": "10a748df02b949c69af0682dd3bd98d1",
       "version_major": 2,
       "version_minor": 0
      },
      "text/plain": [
       "Getting Stocks data... \t:   0%|          | 0/281 [00:00<?, ?it/s]"
      ]
     },
     "metadata": {},
     "output_type": "display_data"
    },
    {
     "name": "stdout",
     "output_type": "stream",
     "text": [
      "Skipping Ticker: nan\t\tError: \n",
      "Skipping Ticker: nan\t\tError: \n",
      "Skipping Ticker: nan\t\tError: \n",
      "Skipping Ticker: nan\t\tError: \n",
      "Skipping Ticker: nan\t\tError: \n",
      "- BH.A: No data found, symbol may be delisted\n"
     ]
    }
   ],
   "source": [
    "import os\n",
    "import pathlib\n",
    "from tqdm.notebook import tqdm\n",
    "\n",
    "# Create an empty folder\n",
    "data_dir = pathlib.Path(output_stock_dump_path)\n",
    "\n",
    "if not data_dir.exists():\n",
    "    os.mkdir(output_stock_dump_path)\n",
    "\n",
    "for ticker in tqdm(df.Ticker, desc='Getting Stocks data... \\t'):\n",
    "    # Get the stock performance data for the past 30 days of this stock\n",
    "    try:\n",
    "        stock_data = get_stock_quotes(ticker)\n",
    "        stock_df = pd.DataFrame(\n",
    "            {\n",
    "                'Date': stock_data.Volume.keys(),\n",
    "                'Close': stock_data.Close.values,\n",
    "                'Low': stock_data.Low.values,\n",
    "                'High': stock_data.High.values,\n",
    "                'Volume': stock_data.Volume.values,\n",
    "            }\n",
    "        )\n",
    "#         print('Values of stock ' + ticker + '\\n' + str(stock_df))\n",
    "        stock_df.to_csv(output_stock_dump_path+ticker+'.csv', index=False)\n",
    "    except (AttributeError, Exception) as e:\n",
    "        print(f'Skipping Ticker: {ticker}\\t\\tError: {e}')\n",
    "        continue\n"
   ]
  },
  {
   "cell_type": "code",
   "execution_count": null,
   "metadata": {},
   "outputs": [],
   "source": []
  }
 ],
 "metadata": {
  "colab": {
   "collapsed_sections": [],
   "name": "scan_parse.ipynb",
   "provenance": []
  },
  "interpreter": {
   "hash": "e7370f93d1d0cde622a1f8e1c04877d8463912d04d973331ad4851f04de6915a"
  },
  "kernelspec": {
   "display_name": "Python 3 (ipykernel)",
   "language": "python",
   "name": "python3"
  },
  "language_info": {
   "codemirror_mode": {
    "name": "ipython",
    "version": 3
   },
   "file_extension": ".py",
   "mimetype": "text/x-python",
   "name": "python",
   "nbconvert_exporter": "python",
   "pygments_lexer": "ipython3",
   "version": "3.9.7"
  }
 },
 "nbformat": 4,
 "nbformat_minor": 2
}
